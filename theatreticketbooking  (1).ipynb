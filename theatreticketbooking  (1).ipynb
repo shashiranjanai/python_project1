{
 "cells": [
  {
   "cell_type": "code",
   "execution_count": null,
   "id": "38794412-357b-48b0-8229-4197f8e57882",
   "metadata": {},
   "outputs": [
    {
     "name": "stdin",
     "output_type": "stream",
     "text": [
      "enter customer's name: ram\n"
     ]
    },
    {
     "name": "stdout",
     "output_type": "stream",
     "text": [
      "Hello!  ram\n",
      "welcome to cinplex jaipur\n",
      "\n",
      "    we have two types of seats\n",
      "    1. normal - price 300\n",
      "    2. recliner - price 450\n"
     ]
    },
    {
     "name": "stdin",
     "output_type": "stream",
     "text": [
      "enter choise: 2\n",
      "enter number of seats: 4\n"
     ]
    },
    {
     "name": "stdout",
     "output_type": "stream",
     "text": [
      "your amount so far is 1800\n",
      "\n",
      "                    press 1 for 70rs combo\n",
      "                    press 2 for 120rs combo\n",
      "                    press 3 for 20rs combo\n"
     ]
    },
    {
     "name": "stdin",
     "output_type": "stream",
     "text": [
      "enter your choise: 3\n"
     ]
    },
    {
     "name": "stdout",
     "output_type": "stream",
     "text": [
      "----------------------------------------\n",
      "pyable amount 1820\n",
      "----------------------------------------\n"
     ]
    }
   ],
   "source": [
    "#Theater ticket booking systum\n",
    "\n",
    "\n",
    "normal = 150\n",
    "recliner = 50\n",
    "nprice = 300\n",
    "rprice = 450\n",
    "coc = 70\n",
    "pcorn= 120\n",
    "chips = 20\n",
    "\n",
    "    \n",
    "while True:\n",
    "    name= input(\"enter customer's name:\")\n",
    "    total = 0\n",
    "\n",
    "    print(\"Hello! \",name)\n",
    "    print(\"welcome to cinplex jaipur\")\n",
    "    print(\"\"\"\n",
    "    we have two types of seats\n",
    "    1. normal - price 300\n",
    "    2. recliner - price 450\"\"\")\n",
    "    choise = input (\"enter choise:\")\n",
    "    \n",
    "    \n",
    "    if choise == \"1\":\n",
    "        seats = int (input('enter number of seats:'))\n",
    "        if seats > normal:\n",
    "            print(\"the available normal seat are\", normal)\n",
    "            print(\"the available recliner seats are\", recliner)\n",
    "            \n",
    "        else:\n",
    "            total = seats * nprice\n",
    "            normal -= seats\n",
    "            print(\"your amount so far is\", total)\n",
    "    \n",
    "    elif choise == \"2\":\n",
    "                 seats = int (input('enter number of seats:'))\n",
    "                 if seats > recliner:\n",
    "                    print(\"the available normal seat are\", normal)\n",
    "                    print(\"the available recliner seats are\", recliner)\n",
    "                    \n",
    "                 else:\n",
    "                    total = seats * rprice\n",
    "                    recliner -= seats\n",
    "                    print(\"your amount so far is\", total)\n",
    "                    print(\"\"\"\n",
    "                    press 1 for 70rs combo\n",
    "                    press 2 for 120rs combo\n",
    "                    press 3 for 20rs combo\"\"\")\n",
    "                    combo = int(input(\"enter your choise:\"))\n",
    "                    \n",
    "                    if combo == 1:\n",
    "                        total += coc\n",
    "                    elif combo == 2:\n",
    "                        total += pcorn\n",
    "                    elif combo == 3:\n",
    "                        total += chips\n",
    "                        \n",
    "                    print(\"-\"*40)               \n",
    "                    print(\"pyable amount\", total)\n",
    "                    print(\"-\"*40)\n",
    "                    \n",
    "                       \n",
    "                \n",
    "                \n"
   ]
  },
  {
   "cell_type": "code",
   "execution_count": null,
   "id": "01c82b2b-b919-4ef2-b5f9-9bc730986804",
   "metadata": {},
   "outputs": [],
   "source": []
  },
  {
   "cell_type": "code",
   "execution_count": null,
   "id": "1a422bb8-095d-42c0-84e7-f215c40c7693",
   "metadata": {},
   "outputs": [],
   "source": []
  },
  {
   "cell_type": "code",
   "execution_count": null,
   "id": "7f3943f3-7a5b-4a63-9375-172b2ad05646",
   "metadata": {},
   "outputs": [],
   "source": []
  }
 ],
 "metadata": {
  "kernelspec": {
   "display_name": "Python 3 (ipykernel)",
   "language": "python",
   "name": "python3"
  },
  "language_info": {
   "codemirror_mode": {
    "name": "ipython",
    "version": 3
   },
   "file_extension": ".py",
   "mimetype": "text/x-python",
   "name": "python",
   "nbconvert_exporter": "python",
   "pygments_lexer": "ipython3",
   "version": "3.11.6"
  }
 },
 "nbformat": 4,
 "nbformat_minor": 5
}
